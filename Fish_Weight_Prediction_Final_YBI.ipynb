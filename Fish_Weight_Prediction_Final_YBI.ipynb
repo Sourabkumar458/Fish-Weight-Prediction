{
 "cells": [
  {
   "cell_type": "markdown",
   "id": "cde71c5f",
   "metadata": {},
   "source": [
    "# 🎣 Fish Weight Prediction using Linear Regression"
   ]
  },
  {
   "cell_type": "markdown",
   "id": "da36e4da",
   "metadata": {},
   "source": [
    "\n",
    "This project uses machine learning to predict the weight of fish using physical measurements like height, width, and length.  \n",
    "We will use the Linear Regression model for prediction.\n"
   ]
  },
  {
   "cell_type": "code",
   "execution_count": null,
   "id": "13476035",
   "metadata": {},
   "outputs": [],
   "source": [
    "\n",
    "import pandas as pd\n",
    "from sklearn.model_selection import train_test_split\n",
    "from sklearn.linear_model import LinearRegression\n",
    "from sklearn.metrics import mean_absolute_error, r2_score\n"
   ]
  },
  {
   "cell_type": "markdown",
   "id": "ed32d41c",
   "metadata": {},
   "source": [
    "### 📥 Load Dataset"
   ]
  },
  {
   "cell_type": "code",
   "execution_count": null,
   "id": "25c8ff61",
   "metadata": {},
   "outputs": [],
   "source": [
    "\n",
    "fish = pd.read_csv('https://github.com/ybifoundation/Dataset/raw/main/Fish.csv')\n",
    "fish.head()\n"
   ]
  },
  {
   "cell_type": "markdown",
   "id": "65ec3ff3",
   "metadata": {},
   "source": [
    "### 📊 Data Info"
   ]
  },
  {
   "cell_type": "code",
   "execution_count": null,
   "id": "27fa7a29",
   "metadata": {},
   "outputs": [],
   "source": [
    "\n",
    "fish.info()\n",
    "fish.describe()\n",
    "fish['Category'].value_counts()\n"
   ]
  },
  {
   "cell_type": "markdown",
   "id": "9a3d8221",
   "metadata": {},
   "source": [
    "### 🎯 Define Features and Target"
   ]
  },
  {
   "cell_type": "code",
   "execution_count": null,
   "id": "10cffde0",
   "metadata": {},
   "outputs": [],
   "source": [
    "\n",
    "X = fish[['Category', 'Height', 'Width', 'Length1', 'Length2', 'Length3']]\n",
    "y = fish['Weight']\n"
   ]
  },
  {
   "cell_type": "markdown",
   "id": "47cfa676",
   "metadata": {},
   "source": [
    "### ✂️ Split Data into Train and Test"
   ]
  },
  {
   "cell_type": "code",
   "execution_count": null,
   "id": "21cf2ee1",
   "metadata": {},
   "outputs": [],
   "source": [
    "\n",
    "X_train, X_test, y_train, y_test = train_test_split(X, y, train_size=0.7, random_state=2529)\n",
    "X_train.shape, X_test.shape, y_train.shape, y_test.shape\n"
   ]
  },
  {
   "cell_type": "markdown",
   "id": "ffd3fce1",
   "metadata": {},
   "source": [
    "### ⚙️ Train Linear Regression Model"
   ]
  },
  {
   "cell_type": "code",
   "execution_count": null,
   "id": "f31a7d13",
   "metadata": {},
   "outputs": [],
   "source": [
    "\n",
    "model = LinearRegression()\n",
    "model.fit(X_train, y_train)\n"
   ]
  },
  {
   "cell_type": "markdown",
   "id": "e96449d1",
   "metadata": {},
   "source": [
    "### 📈 Model Parameters"
   ]
  },
  {
   "cell_type": "code",
   "execution_count": null,
   "id": "316c9189",
   "metadata": {},
   "outputs": [],
   "source": [
    "\n",
    "print(\"Intercept:\", model.intercept_)\n",
    "print(\"Coefficients:\", model.coef_)\n"
   ]
  },
  {
   "cell_type": "markdown",
   "id": "371f627b",
   "metadata": {},
   "source": [
    "### 🔮 Make Predictions"
   ]
  },
  {
   "cell_type": "code",
   "execution_count": null,
   "id": "91330c3b",
   "metadata": {},
   "outputs": [],
   "source": [
    "\n",
    "y_pred = model.predict(X_test)\n",
    "y_pred[:5]\n"
   ]
  },
  {
   "cell_type": "markdown",
   "id": "5419220b",
   "metadata": {},
   "source": [
    "### 🧪 Evaluate the Model"
   ]
  },
  {
   "cell_type": "code",
   "execution_count": null,
   "id": "df0c1bfc",
   "metadata": {},
   "outputs": [],
   "source": [
    "\n",
    "mae = mean_absolute_error(y_test, y_pred)\n",
    "r2 = r2_score(y_test, y_pred)\n",
    "\n",
    "print(\"Mean Absolute Error:\", mae)\n",
    "print(\"R² Score:\", r2)\n"
   ]
  },
  {
   "cell_type": "markdown",
   "id": "d972f899",
   "metadata": {},
   "source": [
    "### ✅ Conclusion"
   ]
  },
  {
   "cell_type": "markdown",
   "id": "19b59ae8",
   "metadata": {},
   "source": [
    "\n",
    "The Linear Regression model performs reasonably well in predicting fish weights using simple measurements.  \n",
    "Further improvement can be done by encoding categorical variables and trying advanced models.\n"
   ]
  }
 ],
 "metadata": {},
 "nbformat": 4,
 "nbformat_minor": 5
}
